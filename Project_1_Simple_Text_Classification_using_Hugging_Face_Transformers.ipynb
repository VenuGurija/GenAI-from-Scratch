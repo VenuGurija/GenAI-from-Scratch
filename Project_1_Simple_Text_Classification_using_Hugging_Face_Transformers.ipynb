from transformers import pipeline

classifier = pipeline("text-classification", model="distilbert-base-uncased-finetuned-sst-2-english")

text = input("Enter a sentence to classify: ")

result = classifier(text)

label = result[0]['label']

score = round(result[0]['score'], 4)
print(f"Predicted sentiment: {label} (confidence: {score})")
